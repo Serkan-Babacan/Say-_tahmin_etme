{
 "cells": [
  {
   "attachments": {},
   "cell_type": "markdown",
   "metadata": {},
   "source": [
    "5-\n",
    "Tahmin Oyunu: Bilgisayarın rastgele seçtiği bir sayıyı, kullanıcının tahmin etmesi gereken bir program yazabilirsiniz. Kullanıcının tahminlerine göre, bilgisayarın daha yüksek ya da daha düşük sayılar seçmesi gereken bir oyundur."
   ]
  },
  {
   "cell_type": "code",
   "execution_count": 8,
   "metadata": {},
   "outputs": [
    {
     "name": "stdout",
     "output_type": "stream",
     "text": [
      "Aşağı\n",
      "Yukarı\n",
      "Tebrikler! 3. defada bildiniz, Puanınız: 60.0\n"
     ]
    }
   ],
   "source": [
    "import random\n",
    "\n",
    "rand = random.randint(1,10)\n",
    "can = int(input('Kaç hak kullanmak istersiniz? '))\n",
    "hak = can\n",
    "sayac = 0\n",
    "\n",
    "\n",
    "while hak > 0:\n",
    "    sayac += 1\n",
    "    hak -= 1\n",
    "    tahmin = int(input('Sayı girin: '))\n",
    "    \n",
    "    if (tahmin == rand):\n",
    "        print(f'Tebrikler! {sayac}. defada bildiniz, Puanınız: {100 - (100 / (can) * (sayac - 1))}')\n",
    "        break\n",
    "    elif(tahmin > rand):\n",
    "        print('Aşağı')\n",
    "    else:\n",
    "        print('Yukarı')\n",
    "        \n",
    "    if (hak == 0):\n",
    "        print(f'Üzgünüz hakkınız bitti! Tutulan sayı: {rand}')\n"
   ]
  }
 ],
 "metadata": {
  "kernelspec": {
   "display_name": "Python 3",
   "language": "python",
   "name": "python3"
  },
  "language_info": {
   "codemirror_mode": {
    "name": "ipython",
    "version": 3
   },
   "file_extension": ".py",
   "mimetype": "text/x-python",
   "name": "python",
   "nbconvert_exporter": "python",
   "pygments_lexer": "ipython3",
   "version": "3.10.8"
  },
  "orig_nbformat": 4
 },
 "nbformat": 4,
 "nbformat_minor": 2
}
